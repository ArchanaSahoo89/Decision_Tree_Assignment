{
  "nbformat": 4,
  "nbformat_minor": 0,
  "metadata": {
    "colab": {
      "provenance": [],
      "include_colab_link": true
    },
    "kernelspec": {
      "name": "python3",
      "display_name": "Python 3"
    },
    "language_info": {
      "name": "python"
    }
  },
  "cells": [
    {
      "cell_type": "markdown",
      "metadata": {
        "id": "view-in-github",
        "colab_type": "text"
      },
      "source": [
        "<a href=\"https://colab.research.google.com/github/ArchanaSahoo89/Decision_Tree_Assignment/blob/main/Decision_Tree_Assignment.ipynb\" target=\"_parent\"><img src=\"https://colab.research.google.com/assets/colab-badge.svg\" alt=\"Open In Colab\"/></a>"
      ]
    },
    {
      "cell_type": "markdown",
      "source": [
        "    1. What is a Decision Tree, and how does it work?\n",
        "A Decision Tree is a supervised learning algorithm used for classification and regression tasks. It works by splitting data into subsets based on feature values, forming a tree-like structure with decision nodes and leaf nodes. Each internal node represents a decision based on an attribute, branches represent possible outcomes, and leaf nodes represent the final prediction.\n",
        "\n",
        "The tree is built using a recursive splitting process:\n",
        "\n",
        "Select the best feature to split the data.\n",
        "Split the dataset based on the chosen feature.\n",
        "Repeat the process until a stopping condition is met (e.g., max depth reached or no further improvement).\n"
      ],
      "metadata": {
        "id": "nhcdCLVF1JH9"
      }
    },
    {
      "cell_type": "markdown",
      "source": [
        "    2. What are impurity measures in Decision Trees?\n",
        "Impurity measures help decide how to split nodes in a Decision Tree. They quantify how mixed the classes are in a node. The two most common impurity measures are:\n",
        "\n",
        "####Gini Impurity: Measures the probability of incorrect classification.\n",
        "####Entropy: Measures the uncertainty in a dataset."
      ],
      "metadata": {
        "id": "b9sFckRP1PBN"
      }
    },
    {
      "cell_type": "markdown",
      "source": [
        "     3. What is the mathematical formula for Gini Impurity?\n",
        "\n",
        "The mathematical formula for Gini Impurity is:\n",
        "\n",
        "𝐺\n",
        "𝑖\n",
        "𝑛\n",
        "𝑖\n",
        "(\n",
        "𝑆\n",
        ")\n",
        "=\n",
        "1\n",
        "−\n",
        "∑\n",
        "𝑖\n",
        "=\n",
        "1\n",
        "𝑛\n",
        "𝑝\n",
        "𝑖\n",
        "2\n",
        "\n",
        "Explanation:\n",
        "\n",
        "𝑆\n",
        ": The dataset or sample.\n",
        "\n",
        "𝑛\n",
        ": The total number of classes in the dataset.\n",
        "\n",
        "𝑝\n",
        "𝑖\n",
        ": The proportion (probability) of elements belonging to class\n",
        "𝑖\n",
        ".\n",
        "\n",
        "How it Works:\n",
        "\n",
        "∑\n",
        "𝑖\n",
        "=\n",
        "1\n",
        "𝑛\n",
        "𝑝\n",
        "𝑖\n",
        "2\n",
        ": Represents the sum of the squared probabilities for each class.\n",
        "\n",
        "Gini Impurity measures how often an element would be incorrectly classified if it were randomly labeled according to the class distribution.\n",
        "\n",
        "The value of Gini Impurity is 0 when the dataset is perfectly pure (only one class is present) and approaches 1 as the dataset becomes more mixed (impure).\n",
        "\n",
        "\n"
      ],
      "metadata": {
        "id": "1qSDENMgn3La"
      }
    },
    {
      "cell_type": "markdown",
      "source": [
        "    4. What is the mathematical formula for Entropy?\n",
        "\n",
        "\n",
        "The mathematical formula for entropy, which measures the impurity or uncertainty in a dataset, is as follows:\n",
        "\n",
        "Entropy\n",
        "(\n",
        "𝑆\n",
        ")\n",
        "=\n",
        "−\n",
        "∑\n",
        "𝑖\n",
        "=\n",
        "1\n",
        "𝑛\n",
        "𝑝\n",
        "𝑖\n",
        "⋅\n",
        "log\n",
        "⁡\n",
        "2\n",
        "(\n",
        "𝑝\n",
        "𝑖\n",
        ")\n",
        "\n",
        "\n",
        "Explanation:\n",
        "\n",
        "𝑆\n",
        ": The dataset or sample.\n",
        "\n",
        "𝑝\n",
        "𝑖\n",
        ": The proportion of elements in class\n",
        "𝑖\n",
        " (i.e., the probability of selecting an element from class\n",
        "𝑖\n",
        ").\n",
        "\n",
        "𝑛\n",
        ": The number of classes in the dataset.\n",
        "\n",
        "log\n",
        "⁡\n",
        "2\n",
        "(\n",
        "𝑝\n",
        "𝑖\n",
        ")\n",
        ": The base-2 logarithm of\n",
        "𝑝\n",
        "𝑖\n",
        ", which quantifies the \"information content\" of that class."
      ],
      "metadata": {
        "id": "W8PTjO4cnLwX"
      }
    },
    {
      "cell_type": "markdown",
      "source": [
        "    5. What is Information Gain, and how is it used in Decision Trees?\n",
        "\n",
        "Information Gain is a metric used in decision trees to measure how well a particular attribute separates data into distinct classes or categories. It quantifies the reduction in uncertainty (or entropy) about the target variable that occurs when the dataset is split based on a specific attribute.\n",
        "\n",
        "Entropy: A measure of impurity or disorder in the dataset. High entropy means the data is very mixed, while low entropy indicates it is more uniform.\n",
        "\n",
        "Formula:\n",
        "Entropy\n",
        "(\n",
        "𝑆\n",
        ")\n",
        "=\n",
        "−\n",
        "∑\n",
        "𝑝\n",
        "𝑖\n",
        "log\n",
        "⁡\n",
        "2\n",
        "𝑝\n",
        "𝑖\n",
        ", where\n",
        "𝑝\n",
        "𝑖\n",
        " is the proportion of examples in class\n",
        "𝑖\n",
        ".\n",
        "\n",
        "Information Gain (IG): It represents the decrease in entropy achieved by splitting the data on an attribute.\n",
        "\n",
        "Formula:\n",
        "IG\n",
        "(𝑆,𝐴)=Entropy(𝑆)−∑∣𝑆𝑣∣∣𝑆∣Entropy\n",
        "(\n",
        "𝑆\n",
        "𝑣\n",
        ")\n",
        ", where\n",
        "𝑆\n",
        " is the original dataset,\n",
        "𝐴\n",
        " is the attribute, and\n",
        "𝑆\n",
        "𝑣\n",
        " represents the subsets created by splitting on\n",
        "𝐴\n",
        ".\n",
        "\n",
        "#### Usage in Decision Trees:\n",
        "During the construction of a decision tree, Information Gain is used to select the attribute that best splits the data at each step.\n",
        "\n",
        "The attribute with the highest Information Gain is chosen as the root or a node because it leads to the most significant reduction in uncertainty about the target variable.\n",
        "\n",
        "By iteratively selecting attributes based on Information Gain, the decision tree is built to classify or predict data effectively."
      ],
      "metadata": {
        "id": "fDUVaQHti2YC"
      }
    },
    {
      "cell_type": "markdown",
      "source": [
        "    6. What is the difference between Gini Impurity and Entropy?\n",
        "\n",
        "### Difference between Gini Impurity and Entropy\n",
        "\n",
        "####1. Gini Impurity:\n",
        "\n",
        "  Gini measures how **impure** a node is, calculated as:\n",
        "\n",
        "  Gini = 1 - \\sum_{i=1}^{C} p_i^2 $$\n",
        "\n",
        "  where:\n",
        "  - \\( p_i \\) is the probability of class \\( i \\).\n",
        "  - \\( C \\) is the number of classes.\n",
        "\n",
        "#### 2. Entropy\n",
        "  Entropy measures the **uncertainty** in a dataset:\n",
        "\n",
        "  Entropy = - \\sum_{i=1}^{C} p_i \\log_2 p_i\n",
        "\n",
        "  \n",
        "  #### **3. Decision Tree Preference**\n",
        "  - **Gini is computationally faster** (no logarithm calculations).\n",
        "  - **Entropy is more information-theoretic**, but results are similar.\n",
        "  - **Scikit-learn's DecisionTreeClassifier uses Gini by default.**\n"
      ],
      "metadata": {
        "id": "S1TNm1F44t9f"
      }
    },
    {
      "cell_type": "markdown",
      "source": [
        "    7. What is the mathematical explanation behind Decision Trees?\n",
        "\n",
        "A Decision Tree follows a recursive partitioning approach:\n",
        "\n",
        "Calculate impurity (Gini or Entropy) at each split.\n",
        "\n",
        "Compute Information Gain for all possible splits.\n",
        "\n",
        "Compute Information Gain and pick the best feature.\n",
        "\n",
        "This recursive process builds the Decision Tree."
      ],
      "metadata": {
        "id": "q_cBun5F5DL5"
      }
    },
    {
      "cell_type": "markdown",
      "source": [
        "    8. What is Pre-Pruning in Decision Trees?\n",
        "Pre-Pruning is stopping the tree from growing too deep by setting constraints like:\n",
        "\n",
        "Maximum tree depth.\n",
        "\n",
        "Minimum samples per leaf node.\n",
        "\n",
        "Minimum Information Gain threshold.\n",
        "\n",
        "This prevents overfitting by stopping early.\n"
      ],
      "metadata": {
        "id": "aI8_vx6a5Qg9"
      }
    },
    {
      "cell_type": "markdown",
      "source": [
        "    9. What is Post-Pruning in Decision Trees?\n",
        "Post-Pruning is allowing the tree to grow fully and then trimming unnecessary branches. Techniques include:\n",
        "\n",
        "Cost complexity pruning (removes branches with little impact on accuracy).\n",
        "\n",
        "Reduced error pruning (removes branches if accuracy on validation data improves).\n",
        "\n",
        "This balances overfitting and underfitting."
      ],
      "metadata": {
        "id": "cmxjlN8J5VK5"
      }
    },
    {
      "cell_type": "markdown",
      "source": [
        "    10. What is the difference between Pre-Pruning and Post-Pruning?\n",
        "Pruning helps prevent **overfitting** in decision trees. It is divided into:\n",
        "\n",
        "- **Pre-Pruning (Early Stopping):** Stops tree growth early based on predefined conditions.\n",
        "- **Post-Pruning (Trimming):** Grows the full tree first, then removes unnecessary branches.\n",
        "\n",
        "#### **1. Pre-Pruning (Early Stopping)**\n",
        "Pre-pruning restricts the tree during training using conditions like:\n",
        "- Maximum depth of the tree.\n",
        "- Minimum samples required per split.\n",
        "- Minimum information gain threshold.\n",
        "\n",
        "It prevents **overfitting** but may cause **underfitting** if stopped too early.\n",
        "\n",
        "#### **2. Post-Pruning (Trimming)**\n",
        "Post-pruning allows full tree growth and then removes less significant branches:\n",
        "- Uses **cost complexity pruning** (CART) or **reduced error pruning** (C4.5).\n",
        "- Helps **reduce overfitting** without premature stopping.\n",
        "\n",
        "\n",
        "\n",
        "#### **3. Decision Tree Preference**\n",
        "- **Pre-Pruning** is used when we want fast training and prevent overfitting early.\n",
        "- **Post-Pruning** is used when we need a **fully grown tree** and then optimize it.\n",
        "- **Scikit-learn uses cost complexity pruning for post-pruning.**\n"
      ],
      "metadata": {
        "id": "UxlqvjGv5cQd"
      }
    },
    {
      "cell_type": "markdown",
      "source": [
        "    11. What is a Decision Tree Regressor?\n",
        "A Decision Tree Regressor is used for regression tasks (predicting continuous values). Instead of classification, it splits data based on minimizing variance. The prediction for a leaf node is the mean of target values in that node."
      ],
      "metadata": {
        "id": "bnGjTBzA6U9I"
      }
    },
    {
      "cell_type": "markdown",
      "source": [
        "    12. What are the advantages and disadvantages of Decision Trees?\n",
        "####Advantages:\n",
        "Easy to interpret and visualize.\n",
        "\n",
        "Works with both numerical and categorical data.\n",
        "\n",
        "No need for feature scaling (e.g., standardization).\n",
        "\n",
        "Handles missing values well.\n",
        "####Disadvantages:\n",
        "Prone to overfitting (solved by pruning).\n",
        "\n",
        "Unstable (small changes in data → big changes in structure).\n",
        "\n",
        "Biased towards dominant features (can be mitigated using ensemble methods like Random Forest).\n"
      ],
      "metadata": {
        "id": "7HGvYNfa7COA"
      }
    },
    {
      "cell_type": "markdown",
      "source": [
        "    13. How does a Decision Tree handle missing values?\n",
        "Decision Trees handle missing values using:\n",
        "\n",
        "Surrogate splits: Finds alternative features that closely mimic the missing feature.\n",
        "    \n",
        "Weighted splits: Distributes samples based on probabilities instead of discarding them.\n",
        "    \n",
        "Mean/Mode imputation: Replaces missing values with the most frequent (mode) or mean value."
      ],
      "metadata": {
        "id": "xo5mquiJ7Io5"
      }
    },
    {
      "cell_type": "markdown",
      "source": [
        "    14. How does a Decision Tree handle categorical features?\n",
        "Decision Trees handle categorical features by:\n",
        "\n",
        "One-hot encoding (creating binary features for each category).\n",
        "\n",
        "Label encoding (assigning numeric labels to categories).\n",
        "\n",
        "Direct categorical splits (used in some implementations like CART).\n",
        "\n",
        "Categorical splits work well when the number of categories is small."
      ],
      "metadata": {
        "id": "QMPn9jxo7N50"
      }
    },
    {
      "cell_type": "markdown",
      "source": [
        "    15. What are some real-world applications of Decision Trees?\n",
        "    \n",
        "Decision Trees are widely used in:\n",
        "\n",
        "Healthcare: Diagnosing diseases based on symptoms.\n",
        "\n",
        "Finance: Credit risk assessment, fraud detection.\n",
        "\n",
        "Retail: Customer segmentation, predicting purchases.\n",
        "\n",
        "Manufacturing: Predicting equipment failures.\n",
        "\n",
        "Marketing: Lead scoring and customer churn prediction."
      ],
      "metadata": {
        "id": "ofexK8iT7TfO"
      }
    },
    {
      "cell_type": "code",
      "source": [
        "# PRACTICAL QUESTIONS & ANSWERS"
      ],
      "metadata": {
        "id": "yADcT07_ikQh"
      },
      "execution_count": null,
      "outputs": []
    },
    {
      "cell_type": "code",
      "source": [
        "# 16. Write a Python program to train a Decision Tree Classifier on the Iris dataset and print the model accuracy\n",
        "\n",
        "from sklearn.datasets import load_iris\n",
        "from sklearn.tree import DecisionTreeClassifier\n",
        "from sklearn.model_selection import train_test_split\n",
        "from sklearn.metrics import accuracy_score\n",
        "\n",
        "# Load dataset\n",
        "iris = load_iris()\n",
        "X, y = iris.data, iris.target\n",
        "\n",
        "# Split data\n",
        "X_train, X_test, y_train, y_test = train_test_split(X, y, test_size=0.2, random_state=42)\n",
        "\n",
        "# Train model\n",
        "clf = DecisionTreeClassifier()\n",
        "clf.fit(X_train, y_train)\n",
        "\n",
        "# Predict and evaluate\n",
        "y_pred = clf.predict(X_test)\n",
        "accuracy = accuracy_score(y_test, y_pred)\n",
        "\n",
        "print(f\"Model Accuracy: {accuracy:.4f}\")"
      ],
      "metadata": {
        "colab": {
          "base_uri": "https://localhost:8080/"
        },
        "id": "9vVmScKF7tk0",
        "outputId": "102bfb29-289f-46f5-ce60-a11b2c7a1b74"
      },
      "execution_count": null,
      "outputs": [
        {
          "output_type": "stream",
          "name": "stdout",
          "text": [
            "Model Accuracy: 1.0000\n"
          ]
        }
      ]
    },
    {
      "cell_type": "code",
      "source": [
        "# 17.  Write a Python program to train a Decision Tree Classifier using Gini Impurity as the criterion and print the feature importances\n",
        "\n",
        "import numpy as np\n",
        "\n",
        "clf_gini = DecisionTreeClassifier(criterion=\"gini\")\n",
        "clf_gini.fit(X_train, y_train)\n",
        "\n",
        "# Print feature importances\n",
        "feature_importances = np.round(clf_gini.feature_importances_, 4)\n",
        "print(f\"Feature Importances: {feature_importances}\")\n"
      ],
      "metadata": {
        "colab": {
          "base_uri": "https://localhost:8080/"
        },
        "id": "E4Wm4orW72Ef",
        "outputId": "0c0f07a4-6cc8-47c1-daf2-df1bcc9bdd3d"
      },
      "execution_count": null,
      "outputs": [
        {
          "output_type": "stream",
          "name": "stdout",
          "text": [
            "Feature Importances: [0.0167 0.0167 0.8895 0.0772]\n"
          ]
        }
      ]
    },
    {
      "cell_type": "code",
      "source": [
        "# 18.  Write a Python program to train a Decision Tree Classifier using Entropy as the splitting criterion and print the model accuracy\n",
        "\n",
        "clf_entropy = DecisionTreeClassifier(criterion=\"entropy\")\n",
        "clf_entropy.fit(X_train, y_train)\n",
        "\n",
        "y_pred_entropy = clf_entropy.predict(X_test)\n",
        "accuracy_entropy = accuracy_score(y_test, y_pred_entropy)\n",
        "\n",
        "print(f\"Model Accuracy (Entropy): {accuracy_entropy:.4f}\")\n"
      ],
      "metadata": {
        "colab": {
          "base_uri": "https://localhost:8080/"
        },
        "id": "kmXdWQsr790V",
        "outputId": "324a2a2e-3c08-42a1-b011-36b6e0e85e7c"
      },
      "execution_count": null,
      "outputs": [
        {
          "output_type": "stream",
          "name": "stdout",
          "text": [
            "Model Accuracy (Entropy): 1.0000\n"
          ]
        }
      ]
    },
    {
      "cell_type": "code",
      "source": [
        "# 19. Write a Python program to train a Decision Tree Regressor on a housing dataset and evaluate using Mean Squared Error (MSE).\n",
        "\n",
        "from sklearn.datasets import fetch_california_housing\n",
        "from sklearn.tree import DecisionTreeRegressor\n",
        "from sklearn.metrics import mean_squared_error\n",
        "\n",
        "# Load dataset\n",
        "housing = fetch_california_housing()\n",
        "X_housing, y_housing = housing.data, housing.target\n",
        "\n",
        "# Split data\n",
        "X_train, X_test, y_train, y_test = train_test_split(X_housing, y_housing, test_size=0.2, random_state=42)\n",
        "\n",
        "# Train model\n",
        "regressor = DecisionTreeRegressor()\n",
        "regressor.fit(X_train, y_train)\n",
        "\n",
        "# Predict and evaluate\n",
        "y_pred_reg = regressor.predict(X_test)\n",
        "mse = mean_squared_error(y_test, y_pred_reg)\n",
        "\n",
        "print(f\"Mean Squared Error: {mse:.4f}\")\n"
      ],
      "metadata": {
        "colab": {
          "base_uri": "https://localhost:8080/"
        },
        "id": "11e0HmSO8HzU",
        "outputId": "d45b9a22-d845-4496-bb84-4a615f1fbcfa"
      },
      "execution_count": null,
      "outputs": [
        {
          "output_type": "stream",
          "name": "stdout",
          "text": [
            "Mean Squared Error: 0.4981\n"
          ]
        }
      ]
    },
    {
      "cell_type": "code",
      "source": [
        "# 20. Write a Python program to train a Decision Tree Classifier and visualize the tree using graphviz.\n",
        "\n",
        "from sklearn.tree import export_graphviz\n",
        "import graphviz\n",
        "\n",
        "dot_data = export_graphviz(clf, feature_names=iris.feature_names, class_names=iris.target_names, filled=True)\n",
        "graph = graphviz.Source(dot_data)\n",
        "graph.render(\"iris_tree\")  # Saves as iris_tree.pdf\n",
        "graph  # Display in Google Colab\n"
      ],
      "metadata": {
        "colab": {
          "base_uri": "https://localhost:8080/",
          "height": 1000
        },
        "id": "PlI7IdFE8fdZ",
        "outputId": "b6b297e1-2a3d-447c-ccfa-14274c0d3f15"
      },
      "execution_count": null,
      "outputs": [
        {
          "output_type": "execute_result",
          "data": {
            "image/svg+xml": "<?xml version=\"1.0\" encoding=\"UTF-8\" standalone=\"no\"?>\n<!DOCTYPE svg PUBLIC \"-//W3C//DTD SVG 1.1//EN\"\n \"http://www.w3.org/Graphics/SVG/1.1/DTD/svg11.dtd\">\n<!-- Generated by graphviz version 2.43.0 (0)\n -->\n<!-- Title: Tree Pages: 1 -->\n<svg width=\"772pt\" height=\"790pt\"\n viewBox=\"0.00 0.00 772.00 790.00\" xmlns=\"http://www.w3.org/2000/svg\" xmlns:xlink=\"http://www.w3.org/1999/xlink\">\n<g id=\"graph0\" class=\"graph\" transform=\"scale(1 1) rotate(0) translate(4 786)\">\n<title>Tree</title>\n<polygon fill=\"white\" stroke=\"transparent\" points=\"-4,4 -4,-786 768,-786 768,4 -4,4\"/>\n<!-- 0 -->\n<g id=\"node1\" class=\"node\">\n<title>0</title>\n<polygon fill=\"#fdfffd\" stroke=\"black\" points=\"282.5,-782 114.5,-782 114.5,-699 282.5,-699 282.5,-782\"/>\n<text text-anchor=\"middle\" x=\"198.5\" y=\"-766.8\" font-family=\"Helvetica,sans-Serif\" font-size=\"14.00\">petal length (cm) &lt;= 2.45</text>\n<text text-anchor=\"middle\" x=\"198.5\" y=\"-751.8\" font-family=\"Helvetica,sans-Serif\" font-size=\"14.00\">gini = 0.667</text>\n<text text-anchor=\"middle\" x=\"198.5\" y=\"-736.8\" font-family=\"Helvetica,sans-Serif\" font-size=\"14.00\">samples = 120</text>\n<text text-anchor=\"middle\" x=\"198.5\" y=\"-721.8\" font-family=\"Helvetica,sans-Serif\" font-size=\"14.00\">value = [40, 41, 39]</text>\n<text text-anchor=\"middle\" x=\"198.5\" y=\"-706.8\" font-family=\"Helvetica,sans-Serif\" font-size=\"14.00\">class = versicolor</text>\n</g>\n<!-- 1 -->\n<g id=\"node2\" class=\"node\">\n<title>1</title>\n<polygon fill=\"#e58139\" stroke=\"black\" points=\"177,-655.5 60,-655.5 60,-587.5 177,-587.5 177,-655.5\"/>\n<text text-anchor=\"middle\" x=\"118.5\" y=\"-640.3\" font-family=\"Helvetica,sans-Serif\" font-size=\"14.00\">gini = 0.0</text>\n<text text-anchor=\"middle\" x=\"118.5\" y=\"-625.3\" font-family=\"Helvetica,sans-Serif\" font-size=\"14.00\">samples = 40</text>\n<text text-anchor=\"middle\" x=\"118.5\" y=\"-610.3\" font-family=\"Helvetica,sans-Serif\" font-size=\"14.00\">value = [40, 0, 0]</text>\n<text text-anchor=\"middle\" x=\"118.5\" y=\"-595.3\" font-family=\"Helvetica,sans-Serif\" font-size=\"14.00\">class = setosa</text>\n</g>\n<!-- 0&#45;&gt;1 -->\n<g id=\"edge1\" class=\"edge\">\n<title>0&#45;&gt;1</title>\n<path fill=\"none\" stroke=\"black\" d=\"M170.74,-698.91C163.05,-687.65 154.68,-675.42 146.95,-664.11\"/>\n<polygon fill=\"black\" stroke=\"black\" points=\"149.71,-661.95 141.18,-655.67 143.93,-665.9 149.71,-661.95\"/>\n<text text-anchor=\"middle\" x=\"136.56\" y=\"-676.54\" font-family=\"Helvetica,sans-Serif\" font-size=\"14.00\">True</text>\n</g>\n<!-- 2 -->\n<g id=\"node3\" class=\"node\">\n<title>2</title>\n<polygon fill=\"#f5fef9\" stroke=\"black\" points=\"363.5,-663 195.5,-663 195.5,-580 363.5,-580 363.5,-663\"/>\n<text text-anchor=\"middle\" x=\"279.5\" y=\"-647.8\" font-family=\"Helvetica,sans-Serif\" font-size=\"14.00\">petal length (cm) &lt;= 4.75</text>\n<text text-anchor=\"middle\" x=\"279.5\" y=\"-632.8\" font-family=\"Helvetica,sans-Serif\" font-size=\"14.00\">gini = 0.5</text>\n<text text-anchor=\"middle\" x=\"279.5\" y=\"-617.8\" font-family=\"Helvetica,sans-Serif\" font-size=\"14.00\">samples = 80</text>\n<text text-anchor=\"middle\" x=\"279.5\" y=\"-602.8\" font-family=\"Helvetica,sans-Serif\" font-size=\"14.00\">value = [0, 41, 39]</text>\n<text text-anchor=\"middle\" x=\"279.5\" y=\"-587.8\" font-family=\"Helvetica,sans-Serif\" font-size=\"14.00\">class = versicolor</text>\n</g>\n<!-- 0&#45;&gt;2 -->\n<g id=\"edge2\" class=\"edge\">\n<title>0&#45;&gt;2</title>\n<path fill=\"none\" stroke=\"black\" d=\"M226.6,-698.91C232.76,-690.01 239.34,-680.51 245.69,-671.33\"/>\n<polygon fill=\"black\" stroke=\"black\" points=\"248.63,-673.24 251.45,-663.02 242.88,-669.25 248.63,-673.24\"/>\n<text text-anchor=\"middle\" x=\"255.92\" y=\"-683.92\" font-family=\"Helvetica,sans-Serif\" font-size=\"14.00\">False</text>\n</g>\n<!-- 3 -->\n<g id=\"node4\" class=\"node\">\n<title>3</title>\n<polygon fill=\"#3ee684\" stroke=\"black\" points=\"271,-544 108,-544 108,-461 271,-461 271,-544\"/>\n<text text-anchor=\"middle\" x=\"189.5\" y=\"-528.8\" font-family=\"Helvetica,sans-Serif\" font-size=\"14.00\">petal width (cm) &lt;= 1.65</text>\n<text text-anchor=\"middle\" x=\"189.5\" y=\"-513.8\" font-family=\"Helvetica,sans-Serif\" font-size=\"14.00\">gini = 0.053</text>\n<text text-anchor=\"middle\" x=\"189.5\" y=\"-498.8\" font-family=\"Helvetica,sans-Serif\" font-size=\"14.00\">samples = 37</text>\n<text text-anchor=\"middle\" x=\"189.5\" y=\"-483.8\" font-family=\"Helvetica,sans-Serif\" font-size=\"14.00\">value = [0, 36, 1]</text>\n<text text-anchor=\"middle\" x=\"189.5\" y=\"-468.8\" font-family=\"Helvetica,sans-Serif\" font-size=\"14.00\">class = versicolor</text>\n</g>\n<!-- 2&#45;&gt;3 -->\n<g id=\"edge3\" class=\"edge\">\n<title>2&#45;&gt;3</title>\n<path fill=\"none\" stroke=\"black\" d=\"M248.27,-579.91C241.36,-570.92 233.97,-561.32 226.85,-552.05\"/>\n<polygon fill=\"black\" stroke=\"black\" points=\"229.54,-549.81 220.67,-544.02 223.99,-554.08 229.54,-549.81\"/>\n</g>\n<!-- 6 -->\n<g id=\"node7\" class=\"node\">\n<title>6</title>\n<polygon fill=\"#9253e8\" stroke=\"black\" points=\"452,-544 289,-544 289,-461 452,-461 452,-544\"/>\n<text text-anchor=\"middle\" x=\"370.5\" y=\"-528.8\" font-family=\"Helvetica,sans-Serif\" font-size=\"14.00\">petal width (cm) &lt;= 1.75</text>\n<text text-anchor=\"middle\" x=\"370.5\" y=\"-513.8\" font-family=\"Helvetica,sans-Serif\" font-size=\"14.00\">gini = 0.206</text>\n<text text-anchor=\"middle\" x=\"370.5\" y=\"-498.8\" font-family=\"Helvetica,sans-Serif\" font-size=\"14.00\">samples = 43</text>\n<text text-anchor=\"middle\" x=\"370.5\" y=\"-483.8\" font-family=\"Helvetica,sans-Serif\" font-size=\"14.00\">value = [0, 5, 38]</text>\n<text text-anchor=\"middle\" x=\"370.5\" y=\"-468.8\" font-family=\"Helvetica,sans-Serif\" font-size=\"14.00\">class = virginica</text>\n</g>\n<!-- 2&#45;&gt;6 -->\n<g id=\"edge6\" class=\"edge\">\n<title>2&#45;&gt;6</title>\n<path fill=\"none\" stroke=\"black\" d=\"M311.07,-579.91C318.06,-570.92 325.53,-561.32 332.74,-552.05\"/>\n<polygon fill=\"black\" stroke=\"black\" points=\"335.61,-554.06 338.98,-544.02 330.08,-549.77 335.61,-554.06\"/>\n</g>\n<!-- 4 -->\n<g id=\"node5\" class=\"node\">\n<title>4</title>\n<polygon fill=\"#39e581\" stroke=\"black\" points=\"121,-417.5 0,-417.5 0,-349.5 121,-349.5 121,-417.5\"/>\n<text text-anchor=\"middle\" x=\"60.5\" y=\"-402.3\" font-family=\"Helvetica,sans-Serif\" font-size=\"14.00\">gini = 0.0</text>\n<text text-anchor=\"middle\" x=\"60.5\" y=\"-387.3\" font-family=\"Helvetica,sans-Serif\" font-size=\"14.00\">samples = 36</text>\n<text text-anchor=\"middle\" x=\"60.5\" y=\"-372.3\" font-family=\"Helvetica,sans-Serif\" font-size=\"14.00\">value = [0, 36, 0]</text>\n<text text-anchor=\"middle\" x=\"60.5\" y=\"-357.3\" font-family=\"Helvetica,sans-Serif\" font-size=\"14.00\">class = versicolor</text>\n</g>\n<!-- 3&#45;&gt;4 -->\n<g id=\"edge4\" class=\"edge\">\n<title>3&#45;&gt;4</title>\n<path fill=\"none\" stroke=\"black\" d=\"M144.74,-460.91C131.73,-449.1 117.52,-436.22 104.55,-424.45\"/>\n<polygon fill=\"black\" stroke=\"black\" points=\"106.83,-421.79 97.07,-417.67 102.12,-426.98 106.83,-421.79\"/>\n</g>\n<!-- 5 -->\n<g id=\"node6\" class=\"node\">\n<title>5</title>\n<polygon fill=\"#8139e5\" stroke=\"black\" points=\"252,-417.5 139,-417.5 139,-349.5 252,-349.5 252,-417.5\"/>\n<text text-anchor=\"middle\" x=\"195.5\" y=\"-402.3\" font-family=\"Helvetica,sans-Serif\" font-size=\"14.00\">gini = 0.0</text>\n<text text-anchor=\"middle\" x=\"195.5\" y=\"-387.3\" font-family=\"Helvetica,sans-Serif\" font-size=\"14.00\">samples = 1</text>\n<text text-anchor=\"middle\" x=\"195.5\" y=\"-372.3\" font-family=\"Helvetica,sans-Serif\" font-size=\"14.00\">value = [0, 0, 1]</text>\n<text text-anchor=\"middle\" x=\"195.5\" y=\"-357.3\" font-family=\"Helvetica,sans-Serif\" font-size=\"14.00\">class = virginica</text>\n</g>\n<!-- 3&#45;&gt;5 -->\n<g id=\"edge5\" class=\"edge\">\n<title>3&#45;&gt;5</title>\n<path fill=\"none\" stroke=\"black\" d=\"M191.58,-460.91C192.13,-450.2 192.72,-438.62 193.28,-427.78\"/>\n<polygon fill=\"black\" stroke=\"black\" points=\"196.78,-427.83 193.8,-417.67 189.79,-427.47 196.78,-427.83\"/>\n</g>\n<!-- 7 -->\n<g id=\"node8\" class=\"node\">\n<title>7</title>\n<polygon fill=\"#ffffff\" stroke=\"black\" points=\"449.5,-425 281.5,-425 281.5,-342 449.5,-342 449.5,-425\"/>\n<text text-anchor=\"middle\" x=\"365.5\" y=\"-409.8\" font-family=\"Helvetica,sans-Serif\" font-size=\"14.00\">petal length (cm) &lt;= 4.95</text>\n<text text-anchor=\"middle\" x=\"365.5\" y=\"-394.8\" font-family=\"Helvetica,sans-Serif\" font-size=\"14.00\">gini = 0.5</text>\n<text text-anchor=\"middle\" x=\"365.5\" y=\"-379.8\" font-family=\"Helvetica,sans-Serif\" font-size=\"14.00\">samples = 8</text>\n<text text-anchor=\"middle\" x=\"365.5\" y=\"-364.8\" font-family=\"Helvetica,sans-Serif\" font-size=\"14.00\">value = [0, 4, 4]</text>\n<text text-anchor=\"middle\" x=\"365.5\" y=\"-349.8\" font-family=\"Helvetica,sans-Serif\" font-size=\"14.00\">class = versicolor</text>\n</g>\n<!-- 6&#45;&gt;7 -->\n<g id=\"edge7\" class=\"edge\">\n<title>6&#45;&gt;7</title>\n<path fill=\"none\" stroke=\"black\" d=\"M368.77,-460.91C368.41,-452.56 368.03,-443.67 367.66,-435.02\"/>\n<polygon fill=\"black\" stroke=\"black\" points=\"371.16,-434.86 367.23,-425.02 364.16,-435.16 371.16,-434.86\"/>\n</g>\n<!-- 14 -->\n<g id=\"node15\" class=\"node\">\n<title>14</title>\n<polygon fill=\"#853fe6\" stroke=\"black\" points=\"635.5,-425 467.5,-425 467.5,-342 635.5,-342 635.5,-425\"/>\n<text text-anchor=\"middle\" x=\"551.5\" y=\"-409.8\" font-family=\"Helvetica,sans-Serif\" font-size=\"14.00\">petal length (cm) &lt;= 4.85</text>\n<text text-anchor=\"middle\" x=\"551.5\" y=\"-394.8\" font-family=\"Helvetica,sans-Serif\" font-size=\"14.00\">gini = 0.056</text>\n<text text-anchor=\"middle\" x=\"551.5\" y=\"-379.8\" font-family=\"Helvetica,sans-Serif\" font-size=\"14.00\">samples = 35</text>\n<text text-anchor=\"middle\" x=\"551.5\" y=\"-364.8\" font-family=\"Helvetica,sans-Serif\" font-size=\"14.00\">value = [0, 1, 34]</text>\n<text text-anchor=\"middle\" x=\"551.5\" y=\"-349.8\" font-family=\"Helvetica,sans-Serif\" font-size=\"14.00\">class = virginica</text>\n</g>\n<!-- 6&#45;&gt;14 -->\n<g id=\"edge14\" class=\"edge\">\n<title>6&#45;&gt;14</title>\n<path fill=\"none\" stroke=\"black\" d=\"M433.3,-460.91C448.46,-451.11 464.77,-440.56 480.29,-430.53\"/>\n<polygon fill=\"black\" stroke=\"black\" points=\"482.32,-433.39 488.81,-425.02 478.52,-427.51 482.32,-433.39\"/>\n</g>\n<!-- 8 -->\n<g id=\"node9\" class=\"node\">\n<title>8</title>\n<polygon fill=\"#39e581\" stroke=\"black\" points=\"269,-298.5 148,-298.5 148,-230.5 269,-230.5 269,-298.5\"/>\n<text text-anchor=\"middle\" x=\"208.5\" y=\"-283.3\" font-family=\"Helvetica,sans-Serif\" font-size=\"14.00\">gini = 0.0</text>\n<text text-anchor=\"middle\" x=\"208.5\" y=\"-268.3\" font-family=\"Helvetica,sans-Serif\" font-size=\"14.00\">samples = 2</text>\n<text text-anchor=\"middle\" x=\"208.5\" y=\"-253.3\" font-family=\"Helvetica,sans-Serif\" font-size=\"14.00\">value = [0, 2, 0]</text>\n<text text-anchor=\"middle\" x=\"208.5\" y=\"-238.3\" font-family=\"Helvetica,sans-Serif\" font-size=\"14.00\">class = versicolor</text>\n</g>\n<!-- 7&#45;&gt;8 -->\n<g id=\"edge8\" class=\"edge\">\n<title>7&#45;&gt;8</title>\n<path fill=\"none\" stroke=\"black\" d=\"M311.03,-341.91C294.89,-329.88 277.25,-316.73 261.22,-304.79\"/>\n<polygon fill=\"black\" stroke=\"black\" points=\"263.12,-301.84 253.01,-298.67 258.93,-307.45 263.12,-301.84\"/>\n</g>\n<!-- 9 -->\n<g id=\"node10\" class=\"node\">\n<title>9</title>\n<polygon fill=\"#c09cf2\" stroke=\"black\" points=\"450,-306 287,-306 287,-223 450,-223 450,-306\"/>\n<text text-anchor=\"middle\" x=\"368.5\" y=\"-290.8\" font-family=\"Helvetica,sans-Serif\" font-size=\"14.00\">petal width (cm) &lt;= 1.55</text>\n<text text-anchor=\"middle\" x=\"368.5\" y=\"-275.8\" font-family=\"Helvetica,sans-Serif\" font-size=\"14.00\">gini = 0.444</text>\n<text text-anchor=\"middle\" x=\"368.5\" y=\"-260.8\" font-family=\"Helvetica,sans-Serif\" font-size=\"14.00\">samples = 6</text>\n<text text-anchor=\"middle\" x=\"368.5\" y=\"-245.8\" font-family=\"Helvetica,sans-Serif\" font-size=\"14.00\">value = [0, 2, 4]</text>\n<text text-anchor=\"middle\" x=\"368.5\" y=\"-230.8\" font-family=\"Helvetica,sans-Serif\" font-size=\"14.00\">class = virginica</text>\n</g>\n<!-- 7&#45;&gt;9 -->\n<g id=\"edge9\" class=\"edge\">\n<title>7&#45;&gt;9</title>\n<path fill=\"none\" stroke=\"black\" d=\"M366.54,-341.91C366.75,-333.56 366.98,-324.67 367.2,-316.02\"/>\n<polygon fill=\"black\" stroke=\"black\" points=\"370.7,-316.11 367.46,-306.02 363.71,-315.93 370.7,-316.11\"/>\n</g>\n<!-- 10 -->\n<g id=\"node11\" class=\"node\">\n<title>10</title>\n<polygon fill=\"#8139e5\" stroke=\"black\" points=\"270,-179.5 157,-179.5 157,-111.5 270,-111.5 270,-179.5\"/>\n<text text-anchor=\"middle\" x=\"213.5\" y=\"-164.3\" font-family=\"Helvetica,sans-Serif\" font-size=\"14.00\">gini = 0.0</text>\n<text text-anchor=\"middle\" x=\"213.5\" y=\"-149.3\" font-family=\"Helvetica,sans-Serif\" font-size=\"14.00\">samples = 3</text>\n<text text-anchor=\"middle\" x=\"213.5\" y=\"-134.3\" font-family=\"Helvetica,sans-Serif\" font-size=\"14.00\">value = [0, 0, 3]</text>\n<text text-anchor=\"middle\" x=\"213.5\" y=\"-119.3\" font-family=\"Helvetica,sans-Serif\" font-size=\"14.00\">class = virginica</text>\n</g>\n<!-- 9&#45;&gt;10 -->\n<g id=\"edge10\" class=\"edge\">\n<title>9&#45;&gt;10</title>\n<path fill=\"none\" stroke=\"black\" d=\"M314.72,-222.91C298.79,-210.88 281.37,-197.73 265.55,-185.79\"/>\n<polygon fill=\"black\" stroke=\"black\" points=\"267.53,-182.9 257.44,-179.67 263.31,-188.49 267.53,-182.9\"/>\n</g>\n<!-- 11 -->\n<g id=\"node12\" class=\"node\">\n<title>11</title>\n<polygon fill=\"#9cf2c0\" stroke=\"black\" points=\"459,-187 288,-187 288,-104 459,-104 459,-187\"/>\n<text text-anchor=\"middle\" x=\"373.5\" y=\"-171.8\" font-family=\"Helvetica,sans-Serif\" font-size=\"14.00\">sepal length (cm) &lt;= 6.95</text>\n<text text-anchor=\"middle\" x=\"373.5\" y=\"-156.8\" font-family=\"Helvetica,sans-Serif\" font-size=\"14.00\">gini = 0.444</text>\n<text text-anchor=\"middle\" x=\"373.5\" y=\"-141.8\" font-family=\"Helvetica,sans-Serif\" font-size=\"14.00\">samples = 3</text>\n<text text-anchor=\"middle\" x=\"373.5\" y=\"-126.8\" font-family=\"Helvetica,sans-Serif\" font-size=\"14.00\">value = [0, 2, 1]</text>\n<text text-anchor=\"middle\" x=\"373.5\" y=\"-111.8\" font-family=\"Helvetica,sans-Serif\" font-size=\"14.00\">class = versicolor</text>\n</g>\n<!-- 9&#45;&gt;11 -->\n<g id=\"edge11\" class=\"edge\">\n<title>9&#45;&gt;11</title>\n<path fill=\"none\" stroke=\"black\" d=\"M370.23,-222.91C370.59,-214.56 370.97,-205.67 371.34,-197.02\"/>\n<polygon fill=\"black\" stroke=\"black\" points=\"374.84,-197.16 371.77,-187.02 367.84,-196.86 374.84,-197.16\"/>\n</g>\n<!-- 12 -->\n<g id=\"node13\" class=\"node\">\n<title>12</title>\n<polygon fill=\"#39e581\" stroke=\"black\" points=\"367,-68 246,-68 246,0 367,0 367,-68\"/>\n<text text-anchor=\"middle\" x=\"306.5\" y=\"-52.8\" font-family=\"Helvetica,sans-Serif\" font-size=\"14.00\">gini = 0.0</text>\n<text text-anchor=\"middle\" x=\"306.5\" y=\"-37.8\" font-family=\"Helvetica,sans-Serif\" font-size=\"14.00\">samples = 2</text>\n<text text-anchor=\"middle\" x=\"306.5\" y=\"-22.8\" font-family=\"Helvetica,sans-Serif\" font-size=\"14.00\">value = [0, 2, 0]</text>\n<text text-anchor=\"middle\" x=\"306.5\" y=\"-7.8\" font-family=\"Helvetica,sans-Serif\" font-size=\"14.00\">class = versicolor</text>\n</g>\n<!-- 11&#45;&gt;12 -->\n<g id=\"edge12\" class=\"edge\">\n<title>11&#45;&gt;12</title>\n<path fill=\"none\" stroke=\"black\" d=\"M348.55,-103.73C343.19,-94.97 337.52,-85.7 332.14,-76.91\"/>\n<polygon fill=\"black\" stroke=\"black\" points=\"335.08,-75 326.88,-68.3 329.11,-78.66 335.08,-75\"/>\n</g>\n<!-- 13 -->\n<g id=\"node14\" class=\"node\">\n<title>13</title>\n<polygon fill=\"#8139e5\" stroke=\"black\" points=\"498,-68 385,-68 385,0 498,0 498,-68\"/>\n<text text-anchor=\"middle\" x=\"441.5\" y=\"-52.8\" font-family=\"Helvetica,sans-Serif\" font-size=\"14.00\">gini = 0.0</text>\n<text text-anchor=\"middle\" x=\"441.5\" y=\"-37.8\" font-family=\"Helvetica,sans-Serif\" font-size=\"14.00\">samples = 1</text>\n<text text-anchor=\"middle\" x=\"441.5\" y=\"-22.8\" font-family=\"Helvetica,sans-Serif\" font-size=\"14.00\">value = [0, 0, 1]</text>\n<text text-anchor=\"middle\" x=\"441.5\" y=\"-7.8\" font-family=\"Helvetica,sans-Serif\" font-size=\"14.00\">class = virginica</text>\n</g>\n<!-- 11&#45;&gt;13 -->\n<g id=\"edge13\" class=\"edge\">\n<title>11&#45;&gt;13</title>\n<path fill=\"none\" stroke=\"black\" d=\"M398.82,-103.73C404.26,-94.97 410.01,-85.7 415.48,-76.91\"/>\n<polygon fill=\"black\" stroke=\"black\" points=\"418.52,-78.64 420.82,-68.3 412.57,-74.95 418.52,-78.64\"/>\n</g>\n<!-- 15 -->\n<g id=\"node16\" class=\"node\">\n<title>15</title>\n<polygon fill=\"#c09cf2\" stroke=\"black\" points=\"628.5,-306 470.5,-306 470.5,-223 628.5,-223 628.5,-306\"/>\n<text text-anchor=\"middle\" x=\"549.5\" y=\"-290.8\" font-family=\"Helvetica,sans-Serif\" font-size=\"14.00\">sepal width (cm) &lt;= 3.1</text>\n<text text-anchor=\"middle\" x=\"549.5\" y=\"-275.8\" font-family=\"Helvetica,sans-Serif\" font-size=\"14.00\">gini = 0.444</text>\n<text text-anchor=\"middle\" x=\"549.5\" y=\"-260.8\" font-family=\"Helvetica,sans-Serif\" font-size=\"14.00\">samples = 3</text>\n<text text-anchor=\"middle\" x=\"549.5\" y=\"-245.8\" font-family=\"Helvetica,sans-Serif\" font-size=\"14.00\">value = [0, 1, 2]</text>\n<text text-anchor=\"middle\" x=\"549.5\" y=\"-230.8\" font-family=\"Helvetica,sans-Serif\" font-size=\"14.00\">class = virginica</text>\n</g>\n<!-- 14&#45;&gt;15 -->\n<g id=\"edge15\" class=\"edge\">\n<title>14&#45;&gt;15</title>\n<path fill=\"none\" stroke=\"black\" d=\"M550.81,-341.91C550.66,-333.56 550.51,-324.67 550.36,-316.02\"/>\n<polygon fill=\"black\" stroke=\"black\" points=\"553.86,-315.96 550.19,-306.02 546.86,-316.08 553.86,-315.96\"/>\n</g>\n<!-- 18 -->\n<g id=\"node19\" class=\"node\">\n<title>18</title>\n<polygon fill=\"#8139e5\" stroke=\"black\" points=\"764,-298.5 647,-298.5 647,-230.5 764,-230.5 764,-298.5\"/>\n<text text-anchor=\"middle\" x=\"705.5\" y=\"-283.3\" font-family=\"Helvetica,sans-Serif\" font-size=\"14.00\">gini = 0.0</text>\n<text text-anchor=\"middle\" x=\"705.5\" y=\"-268.3\" font-family=\"Helvetica,sans-Serif\" font-size=\"14.00\">samples = 32</text>\n<text text-anchor=\"middle\" x=\"705.5\" y=\"-253.3\" font-family=\"Helvetica,sans-Serif\" font-size=\"14.00\">value = [0, 0, 32]</text>\n<text text-anchor=\"middle\" x=\"705.5\" y=\"-238.3\" font-family=\"Helvetica,sans-Serif\" font-size=\"14.00\">class = virginica</text>\n</g>\n<!-- 14&#45;&gt;18 -->\n<g id=\"edge18\" class=\"edge\">\n<title>14&#45;&gt;18</title>\n<path fill=\"none\" stroke=\"black\" d=\"M604.93,-341.91C620.76,-329.88 638.06,-316.73 653.78,-304.79\"/>\n<polygon fill=\"black\" stroke=\"black\" points=\"656,-307.5 661.84,-298.67 651.76,-301.93 656,-307.5\"/>\n</g>\n<!-- 16 -->\n<g id=\"node17\" class=\"node\">\n<title>16</title>\n<polygon fill=\"#8139e5\" stroke=\"black\" points=\"603,-179.5 490,-179.5 490,-111.5 603,-111.5 603,-179.5\"/>\n<text text-anchor=\"middle\" x=\"546.5\" y=\"-164.3\" font-family=\"Helvetica,sans-Serif\" font-size=\"14.00\">gini = 0.0</text>\n<text text-anchor=\"middle\" x=\"546.5\" y=\"-149.3\" font-family=\"Helvetica,sans-Serif\" font-size=\"14.00\">samples = 2</text>\n<text text-anchor=\"middle\" x=\"546.5\" y=\"-134.3\" font-family=\"Helvetica,sans-Serif\" font-size=\"14.00\">value = [0, 0, 2]</text>\n<text text-anchor=\"middle\" x=\"546.5\" y=\"-119.3\" font-family=\"Helvetica,sans-Serif\" font-size=\"14.00\">class = virginica</text>\n</g>\n<!-- 15&#45;&gt;16 -->\n<g id=\"edge16\" class=\"edge\">\n<title>15&#45;&gt;16</title>\n<path fill=\"none\" stroke=\"black\" d=\"M548.46,-222.91C548.18,-212.2 547.89,-200.62 547.61,-189.78\"/>\n<polygon fill=\"black\" stroke=\"black\" points=\"551.11,-189.57 547.35,-179.67 544.11,-189.75 551.11,-189.57\"/>\n</g>\n<!-- 17 -->\n<g id=\"node18\" class=\"node\">\n<title>17</title>\n<polygon fill=\"#39e581\" stroke=\"black\" points=\"742,-179.5 621,-179.5 621,-111.5 742,-111.5 742,-179.5\"/>\n<text text-anchor=\"middle\" x=\"681.5\" y=\"-164.3\" font-family=\"Helvetica,sans-Serif\" font-size=\"14.00\">gini = 0.0</text>\n<text text-anchor=\"middle\" x=\"681.5\" y=\"-149.3\" font-family=\"Helvetica,sans-Serif\" font-size=\"14.00\">samples = 1</text>\n<text text-anchor=\"middle\" x=\"681.5\" y=\"-134.3\" font-family=\"Helvetica,sans-Serif\" font-size=\"14.00\">value = [0, 1, 0]</text>\n<text text-anchor=\"middle\" x=\"681.5\" y=\"-119.3\" font-family=\"Helvetica,sans-Serif\" font-size=\"14.00\">class = versicolor</text>\n</g>\n<!-- 15&#45;&gt;17 -->\n<g id=\"edge17\" class=\"edge\">\n<title>15&#45;&gt;17</title>\n<path fill=\"none\" stroke=\"black\" d=\"M595.3,-222.91C608.62,-211.1 623.15,-198.22 636.43,-186.45\"/>\n<polygon fill=\"black\" stroke=\"black\" points=\"638.92,-188.92 644.08,-179.67 634.28,-183.68 638.92,-188.92\"/>\n</g>\n</g>\n</svg>\n",
            "text/plain": [
              "<graphviz.sources.Source at 0x7d9615133d10>"
            ]
          },
          "metadata": {},
          "execution_count": 10
        }
      ]
    },
    {
      "source": [
        "# 21. Write a Python program to train a Decision Tree Classifier with a maximum depth of 3 and compare its accuracy with a fully grown tree\n",
        "\n",
        "# Reload the Iris dataset to get the correct X_train and y_train for classification\n",
        "from sklearn.datasets import load_iris\n",
        "from sklearn.model_selection import train_test_split\n",
        "\n",
        "iris = load_iris()\n",
        "X, y = iris.data, iris.target\n",
        "X_train, X_test, y_train, y_test = train_test_split(X, y, test_size=0.2, random_state=42)\n",
        "\n",
        "\n",
        "clf_depth3 = DecisionTreeClassifier(max_depth=3)\n",
        "clf_depth3.fit(X_train, y_train)\n",
        "\n",
        "accuracy_depth3 = accuracy_score(y_test, clf_depth3.predict(X_test))\n",
        "print(f\"Accuracy with max_depth=3: {accuracy_depth3:.4f}\")\n",
        "print(f\"Accuracy with full tree: {accuracy:.4f}\")  # Using previously trained full tree"
      ],
      "cell_type": "code",
      "metadata": {
        "colab": {
          "base_uri": "https://localhost:8080/"
        },
        "id": "VyDvbX199GrZ",
        "outputId": "6f5b5750-c700-41bd-e885-bb47fe68b293"
      },
      "execution_count": null,
      "outputs": [
        {
          "output_type": "stream",
          "name": "stdout",
          "text": [
            "Accuracy with max_depth=3: 1.0000\n",
            "Accuracy with full tree: 1.0000\n"
          ]
        }
      ]
    },
    {
      "cell_type": "code",
      "source": [
        "# 22. Write a Python program to train a Decision Tree Classifier using min_samples_split=5 and compare its accuracy with a default tree\n",
        "\n",
        "clf_min_samples = DecisionTreeClassifier(min_samples_split=5)\n",
        "clf_min_samples.fit(X_train, y_train)\n",
        "\n",
        "accuracy_min_samples = accuracy_score(y_test, clf_min_samples.predict(X_test))\n",
        "print(f\"Accuracy with min_samples_split=5: {accuracy_min_samples:.4f}\")\n",
        "\n"
      ],
      "metadata": {
        "colab": {
          "base_uri": "https://localhost:8080/"
        },
        "id": "tp2zQ0KP89tr",
        "outputId": "172c41e9-7415-4c8d-b3cd-274e56d6a76e"
      },
      "execution_count": null,
      "outputs": [
        {
          "output_type": "stream",
          "name": "stdout",
          "text": [
            "Accuracy with min_samples_split=5: 1.0000\n"
          ]
        }
      ]
    },
    {
      "cell_type": "code",
      "source": [
        "# 23.  Write a Python program to apply feature scaling before training a Decision Tree Classifier and compare its accuracy with unscaled data\n",
        "\n",
        "from sklearn.preprocessing import StandardScaler\n",
        "\n",
        "scaler = StandardScaler()\n",
        "X_train_scaled = scaler.fit_transform(X_train)\n",
        "X_test_scaled = scaler.transform(X_test)\n",
        "\n",
        "clf_scaled = DecisionTreeClassifier()\n",
        "clf_scaled.fit(X_train_scaled, y_train)\n",
        "\n",
        "accuracy_scaled = accuracy_score(y_test, clf_scaled.predict(X_test_scaled))\n",
        "print(f\"Accuracy with Scaling: {accuracy_scaled:.4f}\")\n"
      ],
      "metadata": {
        "colab": {
          "base_uri": "https://localhost:8080/"
        },
        "id": "1y-Mr0Vp9OQy",
        "outputId": "8bf6c8f9-d9d2-42e4-8b1c-6aff0a494fba"
      },
      "execution_count": null,
      "outputs": [
        {
          "output_type": "stream",
          "name": "stdout",
          "text": [
            "Accuracy with Scaling: 1.0000\n"
          ]
        }
      ]
    },
    {
      "cell_type": "code",
      "source": [
        "# 24.  Write a Python program to train a Decision Tree Classifier using One-vs-Rest (OvR) strategy for multiclass classification\n",
        "\n",
        "from sklearn.multiclass import OneVsRestClassifier\n",
        "\n",
        "clf_ovr = OneVsRestClassifier(DecisionTreeClassifier())\n",
        "clf_ovr.fit(X_train, y_train)\n",
        "\n",
        "accuracy_ovr = accuracy_score(y_test, clf_ovr.predict(X_test))\n",
        "print(f\"Accuracy with One-vs-Rest: {accuracy_ovr:.4f}\")\n"
      ],
      "metadata": {
        "colab": {
          "base_uri": "https://localhost:8080/"
        },
        "id": "Gq47E1R09Xbp",
        "outputId": "658bec34-449b-468b-b426-872604711dda"
      },
      "execution_count": null,
      "outputs": [
        {
          "output_type": "stream",
          "name": "stdout",
          "text": [
            "Accuracy with One-vs-Rest: 1.0000\n"
          ]
        }
      ]
    },
    {
      "cell_type": "code",
      "source": [
        "# 25. Write a Python program to train a Decision Tree Classifier and display the feature importance scores.\n",
        "\n",
        "import matplotlib.pyplot as plt\n",
        "\n",
        "plt.figure(figsize=(8, 5))\n",
        "plt.barh(iris.feature_names, clf.feature_importances_, color='skyblue')\n",
        "plt.xlabel(\"Feature Importance\")\n",
        "plt.ylabel(\"Features\")\n",
        "plt.title(\"Feature Importance in Decision Tree\")\n",
        "plt.show()\n"
      ],
      "metadata": {
        "colab": {
          "base_uri": "https://localhost:8080/",
          "height": 487
        },
        "id": "hdfQlVE-9eKK",
        "outputId": "ac81d406-7ac8-469e-8a8d-2bc5201297a9"
      },
      "execution_count": null,
      "outputs": [
        {
          "output_type": "display_data",
          "data": {
            "text/plain": [
              "<Figure size 800x500 with 1 Axes>"
            ],
            "image/png": "[encoded data removed]"
          },
          "metadata": {}
        }
      ]
    },
    {
      "cell_type": "code",
      "source": [
        "# 26. Write a Python program to train a Decision Tree Regressor with max_depth=5 and compare its performance with an unrestricted tree\n",
        "\n",
        "regressor_depth5 = DecisionTreeRegressor(max_depth=5)\n",
        "regressor_depth5.fit(X_train, y_train)\n",
        "\n",
        "mse_depth5 = mean_squared_error(y_test, regressor_depth5.predict(X_test))\n",
        "print(f\"MSE with max_depth=5: {mse_depth5:.4f}\")\n",
        "print(f\"MSE with unrestricted tree: {mse:.4f}\")  # Previously calculated MSE\n"
      ],
      "metadata": {
        "colab": {
          "base_uri": "https://localhost:8080/"
        },
        "id": "1nhZx0gT9oZO",
        "outputId": "72d72612-d489-4a61-ff74-d83a790f5001"
      },
      "execution_count": null,
      "outputs": [
        {
          "output_type": "stream",
          "name": "stdout",
          "text": [
            "MSE with max_depth=5: 0.0000\n",
            "MSE with unrestricted tree: 0.4981\n"
          ]
        }
      ]
    },
    {
      "cell_type": "code",
      "source": [
        "# 27. Write a Python program to train a Decision Tree Classifier, apply Cost Complexity Pruning (CCP), and visualize its effect on accuracy.\n",
        "\n",
        "import numpy as np\n",
        "\n",
        "path = clf.cost_complexity_pruning_path(X_train, y_train)\n",
        "ccp_alphas = path.ccp_alphas\n",
        "\n",
        "accuracies = []\n",
        "for alpha in ccp_alphas:\n",
        "    clf_pruned = DecisionTreeClassifier(ccp_alpha=alpha)\n",
        "    clf_pruned.fit(X_train, y_train)\n",
        "    accuracies.append(accuracy_score(y_test, clf_pruned.predict(X_test)))\n",
        "\n",
        "plt.plot(ccp_alphas, accuracies, marker=\"o\", linestyle=\"dashed\")\n",
        "plt.xlabel(\"CCP Alpha\")\n",
        "plt.ylabel(\"Accuracy\")\n",
        "plt.title(\"Effect of Cost Complexity Pruning on Accuracy\")\n",
        "plt.show()\n"
      ],
      "metadata": {
        "colab": {
          "base_uri": "https://localhost:8080/",
          "height": 472
        },
        "id": "QheEPF889vvy",
        "outputId": "7405ba55-5a67-419a-ad4f-f2cd9e2cba1f"
      },
      "execution_count": null,
      "outputs": [
        {
          "output_type": "display_data",
          "data": {
            "text/plain": [
              "<Figure size 640x480 with 1 Axes>"
            ],
            "image/png": "[encoded data removed]"
          },
          "metadata": {}
        }
      ]
    },
    {
      "cell_type": "code",
      "source": [
        "# 28.  Write a Python program to train a Decision Tree Classifier and evaluate its performance using Precision, Recall, and F1-Score\n",
        "\n",
        "from sklearn.metrics import classification_report\n",
        "\n",
        "y_pred = clf.predict(X_test)\n",
        "print(classification_report(y_test, y_pred, target_names=iris.target_names))\n"
      ],
      "metadata": {
        "colab": {
          "base_uri": "https://localhost:8080/"
        },
        "id": "qAv9Kjuh94gR",
        "outputId": "ed0d4ce9-7efd-4ee3-b4c2-7823e60d9c85"
      },
      "execution_count": null,
      "outputs": [
        {
          "output_type": "stream",
          "name": "stdout",
          "text": [
            "              precision    recall  f1-score   support\n",
            "\n",
            "      setosa       1.00      1.00      1.00        10\n",
            "  versicolor       1.00      1.00      1.00         9\n",
            "   virginica       1.00      1.00      1.00        11\n",
            "\n",
            "    accuracy                           1.00        30\n",
            "   macro avg       1.00      1.00      1.00        30\n",
            "weighted avg       1.00      1.00      1.00        30\n",
            "\n"
          ]
        }
      ]
    },
    {
      "cell_type": "code",
      "source": [
        "# 29. Write a Python program to train a Decision Tree Classifier and visualize the confusion matrix using seaborn.\n",
        "\n",
        "import seaborn as sns\n",
        "from sklearn.metrics import confusion_matrix\n",
        "\n",
        "cm = confusion_matrix(y_test, y_pred)\n",
        "sns.heatmap(cm, annot=True, fmt=\"d\", cmap=\"Blues\", xticklabels=iris.target_names, yticklabels=iris.target_names)\n",
        "plt.xlabel(\"Predicted Label\")\n",
        "plt.ylabel(\"True Label\")\n",
        "plt.title(\"Confusion Matrix\")\n",
        "plt.show()\n"
      ],
      "metadata": {
        "colab": {
          "base_uri": "https://localhost:8080/",
          "height": 472
        },
        "id": "LL_JgAWH9_GU",
        "outputId": "6dbd8ef6-70a9-4835-8570-3c01ab18851e"
      },
      "execution_count": null,
      "outputs": [
        {
          "output_type": "display_data",
          "data": {
            "text/plain": [
              "<Figure size 640x480 with 2 Axes>"
            ],
            "image/png": "[encoded data removed]"
          },
          "metadata": {}
        }
      ]
    },
    {
      "cell_type": "code",
      "source": [
        "# 30. Write a Python program to train a Decision Tree Classifier and use GridSearchCV to find the optimal values for max_depth and min_samples_split\n",
        "\n",
        "from sklearn.model_selection import GridSearchCV\n",
        "\n",
        "param_grid = {\n",
        "    \"max_depth\": [3, 5, 10, None],\n",
        "    \"min_samples_split\": [2, 5, 10]\n",
        "}\n",
        "\n",
        "grid_search = GridSearchCV(DecisionTreeClassifier(), param_grid, cv=5, scoring=\"accuracy\")\n",
        "grid_search.fit(X_train, y_train)\n",
        "\n",
        "print(f\"Best Parameters: {grid_search.best_params_}\")\n",
        "print(f\"Best Accuracy: {grid_search.best_score_:.4f}\")\n"
      ],
      "metadata": {
        "colab": {
          "base_uri": "https://localhost:8080/"
        },
        "id": "tHcWAMn0-GSw",
        "outputId": "bcb30a29-99bc-438f-a762-d22299b3d66e"
      },
      "execution_count": null,
      "outputs": [
        {
          "output_type": "stream",
          "name": "stdout",
          "text": [
            "Best Parameters: {'max_depth': 10, 'min_samples_split': 2}\n",
            "Best Accuracy: 0.9417\n"
          ]
        }
      ]
    }
  ]
}